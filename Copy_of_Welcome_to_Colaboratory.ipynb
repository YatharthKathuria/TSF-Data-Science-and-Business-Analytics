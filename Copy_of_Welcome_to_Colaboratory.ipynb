{
  "nbformat": 4,
  "nbformat_minor": 0,
  "metadata": {
    "colab": {
      "name": "Copy of Welcome to Colaboratory",
      "provenance": [],
      "collapsed_sections": [],
      "toc_visible": true
    },
    "kernelspec": {
      "display_name": "Python 3",
      "name": "python3"
    }
  },
  "cells": [
    {
      "cell_type": "markdown",
      "metadata": {
        "id": "YqKF7fQzaKhV"
      },
      "source": [
        "# **Name: Yatharth Kathuria**"
      ]
    },
    {
      "cell_type": "markdown",
      "metadata": {
        "id": "TBUTK2oeajon"
      },
      "source": [
        " **DATA SCIENCE AND BUSINESS ANALYTICS**"
      ]
    },
    {
      "cell_type": "markdown",
      "metadata": {
        "id": "vCbNRNpcaqE4"
      },
      "source": [
        "**GRIP JUNE 2021**"
      ]
    },
    {
      "cell_type": "markdown",
      "metadata": {
        "id": "0hFysXDRajxK"
      },
      "source": [
        "# **PREDICTING THE STUDENT SCORE**"
      ]
    },
    {
      "cell_type": "markdown",
      "metadata": {
        "id": "xWXCpJ-FBGO3"
      },
      "source": [
        "# **Importing the libraries**"
      ]
    },
    {
      "cell_type": "code",
      "metadata": {
        "id": "w7a8oCsy2sIa"
      },
      "source": [
        "import numpy as np\n",
        "import matplotlib.pyplot as plt\n",
        "import pandas as pd"
      ],
      "execution_count": 1,
      "outputs": []
    },
    {
      "cell_type": "markdown",
      "metadata": {
        "id": "O1HnBQb8BRLt"
      },
      "source": [
        "# **Importing the dataset**"
      ]
    },
    {
      "cell_type": "code",
      "metadata": {
        "id": "eF6HuIBm2sf6"
      },
      "source": [
        "#The Dataset is imported using Pandas Library creating a Dataframe naming \"dataset\"\n",
        "dataset = pd.read_csv('http://bit.ly/w-data')\n",
        "X = dataset.iloc[:, :-1].values        # X here is the independent varaible/matrix of features(Hours/Inputs)  \n",
        "y = dataset.iloc[:, -1].values         # y here is the dependent varaible(Scores/Outputs)\n"
      ],
      "execution_count": 2,
      "outputs": []
    },
    {
      "cell_type": "markdown",
      "metadata": {
        "id": "osDevfw-Bgf-"
      },
      "source": [
        "# **Displaying the dataset**"
      ]
    },
    {
      "cell_type": "code",
      "metadata": {
        "id": "W9-LdAlB36Ma",
        "colab": {
          "base_uri": "https://localhost:8080/"
        },
        "outputId": "d76f24b8-a12b-4659-fe09-6326e31e9414"
      },
      "source": [
        "print(dataset)"
      ],
      "execution_count": 3,
      "outputs": [
        {
          "output_type": "stream",
          "text": [
            "    Hours  Scores\n",
            "0     2.5      21\n",
            "1     5.1      47\n",
            "2     3.2      27\n",
            "3     8.5      75\n",
            "4     3.5      30\n",
            "5     1.5      20\n",
            "6     9.2      88\n",
            "7     5.5      60\n",
            "8     8.3      81\n",
            "9     2.7      25\n",
            "10    7.7      85\n",
            "11    5.9      62\n",
            "12    4.5      41\n",
            "13    3.3      42\n",
            "14    1.1      17\n",
            "15    8.9      95\n",
            "16    2.5      30\n",
            "17    1.9      24\n",
            "18    6.1      67\n",
            "19    7.4      69\n",
            "20    2.7      30\n",
            "21    4.8      54\n",
            "22    3.8      35\n",
            "23    6.9      76\n",
            "24    7.8      86\n"
          ],
          "name": "stdout"
        }
      ]
    },
    {
      "cell_type": "markdown",
      "metadata": {
        "id": "8gbeFff8CK5c"
      },
      "source": [
        "# **Displaying the Independent Varaible(Hours)**"
      ]
    },
    {
      "cell_type": "code",
      "metadata": {
        "id": "B3hZsMVt4B-h",
        "colab": {
          "base_uri": "https://localhost:8080/"
        },
        "outputId": "c968a324-19d5-4893-e1a0-fb29d4e76dd1"
      },
      "source": [
        "print(X)"
      ],
      "execution_count": 4,
      "outputs": [
        {
          "output_type": "stream",
          "text": [
            "[[2.5]\n",
            " [5.1]\n",
            " [3.2]\n",
            " [8.5]\n",
            " [3.5]\n",
            " [1.5]\n",
            " [9.2]\n",
            " [5.5]\n",
            " [8.3]\n",
            " [2.7]\n",
            " [7.7]\n",
            " [5.9]\n",
            " [4.5]\n",
            " [3.3]\n",
            " [1.1]\n",
            " [8.9]\n",
            " [2.5]\n",
            " [1.9]\n",
            " [6.1]\n",
            " [7.4]\n",
            " [2.7]\n",
            " [4.8]\n",
            " [3.8]\n",
            " [6.9]\n",
            " [7.8]]\n"
          ],
          "name": "stdout"
        }
      ]
    },
    {
      "cell_type": "markdown",
      "metadata": {
        "id": "s3Ar1hrgCUYN"
      },
      "source": [
        "# **Displaying the Dependent Varaible(Scores)**"
      ]
    },
    {
      "cell_type": "code",
      "metadata": {
        "id": "jf0Vw9iM4NbI",
        "colab": {
          "base_uri": "https://localhost:8080/"
        },
        "outputId": "0079221b-e479-47d7-f247-5b3f93e5fc6d"
      },
      "source": [
        "print(y)"
      ],
      "execution_count": 5,
      "outputs": [
        {
          "output_type": "stream",
          "text": [
            "[21 47 27 75 30 20 88 60 81 25 85 62 41 42 17 95 30 24 67 69 30 54 35 76\n",
            " 86]\n"
          ],
          "name": "stdout"
        }
      ]
    },
    {
      "cell_type": "markdown",
      "metadata": {
        "id": "XcslcJoSCkfU"
      },
      "source": [
        "# **Splitting the dataset into the Training set and Test set**"
      ]
    },
    {
      "cell_type": "code",
      "metadata": {
        "id": "g4wgHh5E4R4p"
      },
      "source": [
        "#Splitting the dataset into training and test sets using train_test_split function from model_selection module of Scikit learn library\n",
        "from sklearn.model_selection import train_test_split\n",
        "X_train, X_test, y_train, y_test = train_test_split(X, y, test_size = 0.2, random_state = 0)"
      ],
      "execution_count": 6,
      "outputs": []
    },
    {
      "cell_type": "markdown",
      "metadata": {
        "id": "16troFkjCoMs"
      },
      "source": [
        "# **Training the Simple Linear Regression model on the Training set**"
      ]
    },
    {
      "cell_type": "code",
      "metadata": {
        "id": "HvmML1Zm5CZY",
        "colab": {
          "base_uri": "https://localhost:8080/"
        },
        "outputId": "c77bd431-63db-407d-bfff-c92706f86cbb"
      },
      "source": [
        "#Trainig the Linear Regression model on our training set\n",
        "from sklearn.linear_model import LinearRegression\n",
        "regressor = LinearRegression()\n",
        "regressor.fit(X_train, y_train)"
      ],
      "execution_count": 7,
      "outputs": [
        {
          "output_type": "execute_result",
          "data": {
            "text/plain": [
              "LinearRegression(copy_X=True, fit_intercept=True, n_jobs=None, normalize=False)"
            ]
          },
          "metadata": {
            "tags": []
          },
          "execution_count": 7
        }
      ]
    },
    {
      "cell_type": "markdown",
      "metadata": {
        "id": "dCXgb4C6C2ok"
      },
      "source": [
        "# **Visualising the entire Dataset using Linear Regression Model**"
      ]
    },
    {
      "cell_type": "code",
      "metadata": {
        "id": "gbJxMA32-PM3",
        "colab": {
          "base_uri": "https://localhost:8080/",
          "height": 295
        },
        "outputId": "0c667c35-6584-4c2d-9ab7-ed8073997a12"
      },
      "source": [
        "plt.scatter(X,y, color = 'red')    #It plots the dots on our 2D graph(Actual Values)\n",
        "plt.plot(X, regressor.predict(X), color = 'blue')   #It plots the linear regression line on our 2D(which is our predicted(Hours) values of X\n",
        "plt.title('Hours vs Scores (Test set)')\n",
        "plt.xlabel('Hours')\n",
        "plt.ylabel('Scores')\n",
        "plt.show()"
      ],
      "execution_count": 8,
      "outputs": [
        {
          "output_type": "display_data",
          "data": {
            "image/png": "[encoded data removed]",
            "text/plain": [
              "<Figure size 432x288 with 1 Axes>"
            ]
          },
          "metadata": {
            "tags": [],
            "needs_background": "light"
          }
        }
      ]
    },
    {
      "cell_type": "markdown",
      "metadata": {
        "id": "HcDXh96uDmJ2"
      },
      "source": [
        "# **Predicting the Test set results**"
      ]
    },
    {
      "cell_type": "code",
      "metadata": {
        "id": "kPWBmzT45FsB",
        "colab": {
          "base_uri": "https://localhost:8080/"
        },
        "outputId": "4fed653a-08b0-4fa0-887d-e08dfa968dfd"
      },
      "source": [
        "y_pred = regressor.predict(X_test)\n",
        "np.set_printoptions(precision=2)   #To print numerical values with 2 decimal points\n",
        "print(np.concatenate((y_pred.reshape(len(y_pred),1), y_test.reshape(len(y_test),1)),1))   #Concatenating the predicted hours and the actual hours horizontally "
      ],
      "execution_count": 9,
      "outputs": [
        {
          "output_type": "stream",
          "text": [
            "[[16.88 20.  ]\n",
            " [33.73 27.  ]\n",
            " [75.36 69.  ]\n",
            " [26.79 30.  ]\n",
            " [60.49 62.  ]]\n"
          ],
          "name": "stdout"
        }
      ]
    },
    {
      "cell_type": "markdown",
      "metadata": {
        "id": "MhMIDLnqDwaE"
      },
      "source": [
        "# **Predicting a new result with Linear Regression**"
      ]
    },
    {
      "cell_type": "code",
      "metadata": {
        "id": "5engOVJT8ta9",
        "colab": {
          "base_uri": "https://localhost:8080/"
        },
        "outputId": "6459968c-d43e-4b49-a679-aff61afc4d23"
      },
      "source": [
        "hours=9.25\n",
        "print(\"No of Hours: {}\".format(hours))\n",
        "print(\"Predicted Score: {}\".format(*regressor.predict([[9.25]]), sep=\"\")) "
      ],
      "execution_count": 10,
      "outputs": [
        {
          "output_type": "stream",
          "text": [
            "No of Hours: 9.25\n",
            "Predicted Score: 93.69173248737539\n"
          ],
          "name": "stdout"
        }
      ]
    },
    {
      "cell_type": "markdown",
      "metadata": {
        "id": "oS3UGLUrEfuk"
      },
      "source": [
        "# **Visualising the Training set results using Matplotlib Library**"
      ]
    },
    {
      "cell_type": "code",
      "metadata": {
        "id": "j7HV47kS9fDQ",
        "colab": {
          "base_uri": "https://localhost:8080/",
          "height": 295
        },
        "outputId": "851d9337-7bc5-46b4-e4cf-a9d5b925ff8f"
      },
      "source": [
        "plt.scatter(X_train, y_train, color = 'red')\n",
        "plt.plot(X_train, regressor.predict(X_train), color = 'blue')\n",
        "plt.title('Hours vs Scores (Training set)')\n",
        "plt.xlabel('Hours')\n",
        "plt.ylabel('Scores')\n",
        "plt.show()"
      ],
      "execution_count": 11,
      "outputs": [
        {
          "output_type": "display_data",
          "data": {
            "image/png": "[encoded data removed]",
            "text/plain": [
              "<Figure size 432x288 with 1 Axes>"
            ]
          },
          "metadata": {
            "tags": [],
            "needs_background": "light"
          }
        }
      ]
    },
    {
      "cell_type": "markdown",
      "metadata": {
        "id": "yO1CwWOnEl-T"
      },
      "source": [
        "# **Visualising the Test set results using Matplotlib Library**"
      ]
    },
    {
      "cell_type": "code",
      "metadata": {
        "id": "cZ6G5Ii69fcf",
        "colab": {
          "base_uri": "https://localhost:8080/",
          "height": 295
        },
        "outputId": "3b5d1e8d-3b81-400e-a8f6-a28e93644c52"
      },
      "source": [
        "plt.scatter(X_test, y_test, color = 'red')\n",
        "plt.plot(X_train, regressor.predict(X_train), color = 'blue')\n",
        "plt.title('Hours vs Scores (Test set)')\n",
        "plt.xlabel('Hours')\n",
        "plt.ylabel('Scores')\n",
        "plt.show()"
      ],
      "execution_count": 12,
      "outputs": [
        {
          "output_type": "display_data",
          "data": {
            "image/png": "[encoded data removed]",
            "text/plain": [
              "<Figure size 432x288 with 1 Axes>"
            ]
          },
          "metadata": {
            "tags": [],
            "needs_background": "light"
          }
        }
      ]
    },
    {
      "cell_type": "markdown",
      "metadata": {
        "id": "fl88zJ8PFxuk"
      },
      "source": [
        "# **Model Evaluation**"
      ]
    },
    {
      "cell_type": "markdown",
      "metadata": {
        "id": "68skziTpFpwb"
      },
      "source": [
        "# **R2 Score**"
      ]
    },
    {
      "cell_type": "code",
      "metadata": {
        "id": "nn2m59bbBbYI",
        "colab": {
          "base_uri": "https://localhost:8080/"
        },
        "outputId": "ed6c51fc-3959-486e-b2ac-e18bcd55ac66"
      },
      "source": [
        "from sklearn.metrics import r2_score\n",
        "print('R2 Score:',r2_score(y_test,y_pred))\n"
      ],
      "execution_count": 13,
      "outputs": [
        {
          "output_type": "stream",
          "text": [
            "R2 Score: 0.9454906892105354\n"
          ],
          "name": "stdout"
        }
      ]
    },
    {
      "cell_type": "markdown",
      "metadata": {
        "id": "tD2SVNO3Fkvj"
      },
      "source": [
        "# **Mean Absolute Error**"
      ]
    },
    {
      "cell_type": "code",
      "metadata": {
        "id": "H1_DZNBTDQdo",
        "colab": {
          "base_uri": "https://localhost:8080/"
        },
        "outputId": "7fb04cfa-907b-4626-ddad-e5c7a70f328c"
      },
      "source": [
        "from sklearn.metrics import mean_absolute_error\n",
        "print('Mean Absolute Error:',mean_absolute_error(y_test,y_pred))"
      ],
      "execution_count": 14,
      "outputs": [
        {
          "output_type": "stream",
          "text": [
            "Mean Absolute Error: 4.183859899002982\n"
          ],
          "name": "stdout"
        }
      ]
    },
    {
      "cell_type": "markdown",
      "metadata": {
        "id": "mV_WH2U9FcGC"
      },
      "source": [
        "# **Explained variance regression score function**\n",
        "\n"
      ]
    },
    {
      "cell_type": "code",
      "metadata": {
        "id": "vlVWshhGGd7G",
        "colab": {
          "base_uri": "https://localhost:8080/"
        },
        "outputId": "3c1d5642-1b54-4014-840a-aef495a4de60"
      },
      "source": [
        "from sklearn.metrics import explained_variance_score\n",
        "print('Expalined Varaince Score:',explained_variance_score(y_test,y_pred))"
      ],
      "execution_count": 15,
      "outputs": [
        {
          "output_type": "stream",
          "text": [
            "Expalined Varaince Score: 0.9482829156738145\n"
          ],
          "name": "stdout"
        }
      ]
    }
  ]
}